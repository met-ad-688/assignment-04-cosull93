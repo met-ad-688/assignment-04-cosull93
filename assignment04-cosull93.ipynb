{
  "cells": [
    {
      "cell_type": "markdown",
      "id": "59dbf35f-6c81-474c-b4e7-809545e84f23",
      "metadata": {},
      "source": [
        "# Assignment 04\n",
        "\n",
        "Caroline O’Sullivan (Boston University)  \n",
        "September 27, 2025"
      ]
    },
    {
      "cell_type": "code",
      "execution_count": 2,
      "id": "d6f8bd02",
      "metadata": {},
      "outputs": [
        {
          "name": "stderr",
          "output_type": "stream",
          "text": [
            "Setting default log level to \"WARN\".\n",
            "To adjust logging level use sc.setLogLevel(newLevel). For SparkR, use setLogLevel(newLevel).\n",
            "25/10/09 02:15:42 WARN NativeCodeLoader: Unable to load native-hadoop library for your platform... using builtin-java classes where applicable\n",
            "                                                                                \r"
          ]
        }
      ],
      "source": [
        "from pyspark.sql import SparkSession\n",
        "import pandas as pd\n",
        "import plotly.express as px\n",
        "import plotly.io as pio\n",
        "import numpy as np\n",
        "\n",
        "np.random.seed(45)\n",
        "\n",
        "pio.renderers.default = \"notebook+notebook_connected+vscode\"\n",
        "\n",
        "# Initialize Spark Session\n",
        "spark = SparkSession.builder.appName(\"LightcastData\").getOrCreate()\n",
        "\n",
        "# Load Data\n",
        "df = spark.read.option(\"header\", \"true\").option(\"inferSchema\", \"true\").option(\"multiLine\",\"true\").option(\"escape\", \"\\\"\").csv(\"./data/lightcast_job_postings.csv\")\n",
        "\n",
        "# Show Schema and Sample Data\n",
        "#print(\"---This is Diagnostic check, No need to print it in the final doc---\")\n",
        "\n",
        "# df.printSchema() # comment this line when rendering the submission\n",
        "#df.show(5)"
      ]
    },
    {
      "cell_type": "code",
      "execution_count": 3,
      "id": "c0dd32c6",
      "metadata": {},
      "outputs": [
        {
          "name": "stderr",
          "output_type": "stream",
          "text": [
            "                                                                                \r"
          ]
        }
      ],
      "source": [
        "#Missing Value Treatment\n",
        "#1. Replace missing values in Salary by Median of Salary based on the Employment Type, if missing then replace with the overall median of Salary\n",
        "\n",
        "from pyspark.sql import Window\n",
        "from pyspark.sql.functions import col, when, isnan, count, lit, expr, avg, median, pow\n",
        "from pyspark.ml import Pipeline\n",
        "from pyspark.ml.feature import StringIndexer, OneHotEncoder, VectorAssembler\n",
        "\n",
        "#select subset of columns\n",
        "eda_cols = [\"SALARY\",\"MIN_YEARS_EXPERIENCE\",\"EMPLOYMENT_TYPE_NAME\",\"REMOTE_TYPE_NAME\",\"STATE_NAME\",\"MIN_EDULEVELS_NAME\",\"COMPANY_IS_STAFFING\",\"IS_INTERNSHIP\"]\n",
        "df_subset = df.select(eda_cols)\n",
        "\n",
        "#Fix Remote Type Name incorrect labels to Remote, Hybrid, Onsite.  None and NULL are Onsite.\n",
        "df_subset = df_subset.withColumn(\n",
        "    \"REMOTE_TYPE_NAME\",\n",
        "    when(col(\"REMOTE_TYPE_NAME\") == \"Remote\", \"Remote\")\n",
        "    .when(col(\"REMOTE_TYPE_NAME\") == \"Not Remote\", \"On Site\")\n",
        "    .when(col(\"REMOTE_TYPE_NAME\") == \"Hybrid Remote\", \"Hybrid\")\n",
        "    .when((col(\"REMOTE_TYPE_NAME\").isNull()) | (col(\"REMOTE_TYPE_NAME\") == \"[None]\"), \"On Site\")\n",
        "    .otherwise(\"On Site\")\n",
        ")\n",
        "\n",
        "#Clean Employment Type\n",
        "df_subset = df_subset.withColumn(\n",
        "    \"EMPLOYMENT_TYPE_NAME\",\n",
        "    when(col(\"EMPLOYMENT_TYPE_NAME\").like(\"Part-time (â‰¤ 32%\"), \"Part Time\")\n",
        "    .when(col(\"EMPLOYMENT_TYPE_NAME\").like(\"Part-time / full-%\"), \"Flexible\")\n",
        "    .when(col(\"EMPLOYMENT_TYPE_NAME\").like(\"Full-time (> 32%\"), \"Full Time\")\n",
        "    .when(col(\"EMPLOYMENT_TYPE_NAME\").isNull(), \"Full Time\")\n",
        "    .otherwise(\"Full Time\")  # fallback for anything else\n",
        ")\n",
        "#Calculate the median of MIN_YEARS_EXPERIENCE column based on Employment Type\n",
        "median_by_emp_type_min_exp = df.groupBy(\"EMPLOYMENT_TYPE\").agg(expr('percentile_approx(MIN_YEARS_EXPERIENCE, 0.5)').alias('median_min_years_experience_by_emp_type'))\n",
        "\n",
        "#Median Salary\n",
        "median_salary = df_subset.approxQuantile(\"SALARY\", [0.5], 0.25)[0]\n",
        "median_by_emp_type = (\n",
        "    df_subset.groupBy(\"EMPLOYMENT_TYPE_NAME\")\n",
        "    .agg(expr(\"percentile_approx(SALARY, 0.5)\").alias(\"median_salary_by_emp_type\"))\n",
        ")\n",
        "\n",
        "df_subset = df_subset.join(median_by_emp_type, on=\"EMPLOYMENT_TYPE_NAME\", how=\"left\")\n",
        "df_subset = df_subset.withColumn(\n",
        "    \"SALARY\",\n",
        "    when(\n",
        "        col(\"SALARY\").isNull(),\n",
        "        when(col(\"median_salary_by_emp_type\").isNotNull(), col(\"median_salary_by_emp_type\"))\n",
        "        .otherwise(lit(median_salary))\n",
        "    ).otherwise(col(\"SALARY\"))\n",
        ").drop(\"median_salary_by_emp_type\")\n",
        "\n",
        "#Median MIN_YEARS_EXPERIENCE\n",
        "median_by_emp_type_min_exp = df.groupBy(\"EMPLOYMENT_TYPE_NAME\").agg(\n",
        "    expr('percentile_approx(MIN_YEARS_EXPERIENCE, 0.5)').alias('median_min_years_experience_by_emp_type')\n",
        ")\n",
        "df_subset = df_subset.join(median_by_emp_type_min_exp, on=\"EMPLOYMENT_TYPE_NAME\", how=\"left\")\n",
        "df_subset = df_subset.withColumn(\n",
        "    \"MIN_YEARS_EXPERIENCE\",\n",
        "    when(\n",
        "        col(\"MIN_YEARS_EXPERIENCE\").isNull(),\n",
        "        when(col(\"median_min_years_experience_by_emp_type\").isNotNull(), col(\"median_min_years_experience_by_emp_type\"))\n",
        "        .otherwise(lit(0))  # fallback if needed\n",
        "    ).otherwise(col(\"MIN_YEARS_EXPERIENCE\"))\n",
        ").drop(\"median_min_years_experience_by_emp_type\")\n",
        "\n",
        "#False for IS_INTERNSHIP and COMPANY_IS_STAFFING if NULL\n",
        "df_subset = df_subset.withColumn(\n",
        "    \"IS_INTERNSHIP\",\n",
        "    when(col(\"IS_INTERNSHIP\").isNull(), lit(False)).otherwise(col(\"IS_INTERNSHIP\"))\n",
        ").withColumn(\n",
        "    \"COMPANY_IS_STAFFING\",\n",
        "    when(col(\"COMPANY_IS_STAFFING\").isNull(), lit(False)).otherwise(col(\"COMPANY_IS_STAFFING\"))\n",
        ")\n",
        "\n",
        "df_subset = df_subset.withColumn(\"IS_INTERNSHIP_num\", col(\"IS_INTERNSHIP\").cast(\"int\"))\n",
        "df_subset = df_subset.withColumn(\"COMPANY_IS_STAFFING_num\", col(\"COMPANY_IS_STAFFING\").cast(\"int\"))\n",
        "\n",
        "df_subset = df_subset.dropna()"
      ]
    },
    {
      "cell_type": "markdown",
      "id": "403b35ea",
      "metadata": {},
      "source": [
        "Linear Regression Model"
      ]
    },
    {
      "cell_type": "code",
      "execution_count": 4,
      "id": "286771d2",
      "metadata": {},
      "outputs": [
        {
          "name": "stderr",
          "output_type": "stream",
          "text": [
            "                                                                                \r"
          ]
        }
      ],
      "source": [
        "#Feature Engineering\n",
        "#String Indexing and One Hot Encoding for Categorical Variables\n",
        "categorical_cols = [\"EMPLOYMENT_TYPE_NAME\",\"REMOTE_TYPE_NAME\",\"MIN_EDULEVELS_NAME\",\"STATE_NAME\"]\n",
        "indexers = [StringIndexer(inputCol=col, outputCol=f\"{col}_idx\", handleInvalid='skip') for col in categorical_cols]\n",
        "encoders = [OneHotEncoder(inputCol=f\"{col}_idx\", outputCol=f\"{col}_vec\") for col in categorical_cols]\n",
        "\n",
        "assembler = VectorAssembler(\n",
        "    inputCols=[\n",
        "        \"MIN_YEARS_EXPERIENCE\",\n",
        "        \"COMPANY_IS_STAFFING\",\n",
        "        \"IS_INTERNSHIP\"\n",
        "    ] + [f\"{col}_vec\" for col in categorical_cols],\n",
        "    outputCol=\"features\"\n",
        ")\n",
        "\n",
        "pipeline = Pipeline(stages=indexers + encoders + [assembler])\n",
        "data = pipeline.fit(df_subset).transform(df_subset)"
      ]
    },
    {
      "cell_type": "code",
      "execution_count": 5,
      "id": "f7ee8fd2",
      "metadata": {},
      "outputs": [],
      "source": [
        "#Test Train Split\n",
        "train_data, test_data = data.randomSplit([0.8, 0.2], seed=45)"
      ]
    },
    {
      "cell_type": "code",
      "execution_count": 6,
      "id": "51db6020",
      "metadata": {},
      "outputs": [
        {
          "name": "stderr",
          "output_type": "stream",
          "text": [
            "                                                                                \r"
          ]
        }
      ],
      "source": [
        "from pyspark.ml.regression import GeneralizedLinearRegression\n",
        "from pyspark.sql import Row\n",
        "\n",
        "feature_names = assembler.getInputCols()\n",
        "\n",
        "glr = GeneralizedLinearRegression(\n",
        "    featuresCol=\"features\",\n",
        "    labelCol=\"SALARY\",\n",
        "    family=\"gaussian\",\n",
        "    link=\"identity\",\n",
        "    maxIter=10,\n",
        "    regParam=0.3,\n",
        ")\n",
        "\n",
        "glr_model = glr.fit(train_data)\n",
        "glr_summary = glr_model.summary\n"
      ]
    },
    {
      "cell_type": "code",
      "execution_count": 7,
      "id": "daf3a2d0",
      "metadata": {},
      "outputs": [
        {
          "name": "stdout",
          "output_type": "stream",
          "text": [
            "Intercept: 102278.9407\n",
            "Coefficients:\n",
            " Feature 1: 2378.7010\n",
            " Feature 2: -2835.2513\n",
            " Feature 3: -3435.8114\n",
            " Feature 4: 12006.3027\n",
            " Feature 5: -8290.8537\n",
            " Feature 6: 1538.9051\n",
            " Feature 7: 1088.4958\n",
            " Feature 8: -5950.0787\n",
            " Feature 9: -3615.2379\n",
            " Feature 10: -22564.1717\n",
            " Feature 11: -11979.7180\n",
            " Feature 12: 6353.9330\n",
            " Feature 13: -1553.1378\n",
            " Feature 14: 2688.0705\n",
            " Feature 15: -2274.1549\n",
            " Feature 16: 490.1882\n",
            " Feature 17: 576.8265\n",
            " Feature 18: -164.8164\n",
            " Feature 19: -1131.9933\n",
            " Feature 20: -1786.4970\n",
            " Feature 21: -2290.7826\n",
            " Feature 22: 1624.7187\n",
            " Feature 23: -2157.5368\n",
            " Feature 24: 2.7998\n",
            " Feature 25: -687.9366\n",
            " Feature 26: -2652.3943\n",
            " Feature 27: 3176.2818\n",
            " Feature 28: -1391.5348\n",
            " Feature 29: -3838.0329\n",
            " Feature 30: -2622.0994\n",
            " Feature 31: -1952.8745\n",
            " Feature 32: -1542.7176\n",
            " Feature 33: -641.1122\n",
            " Feature 34: -3499.4323\n",
            " Feature 35: -930.2304\n",
            " Feature 36: -996.0715\n",
            " Feature 37: 2871.9190\n",
            " Feature 38: -2375.4212\n",
            " Feature 39: -2173.8021\n",
            " Feature 40: -1138.4543\n",
            " Feature 41: -4351.5362\n",
            " Feature 42: -1842.2851\n",
            " Feature 43: -1461.6578\n",
            " Feature 44: -1012.8358\n",
            " Feature 45: -6805.4274\n",
            " Feature 46: 2939.3664\n",
            " Feature 47: -1612.1046\n",
            " Feature 48: -2197.0598\n",
            " Feature 49: -3211.0793\n",
            " Feature 50: -760.8950\n",
            " Feature 51: -226.1467\n",
            " Feature 52: -78.5807\n",
            " Feature 53: -3717.8571\n",
            " Feature 54: -4033.0228\n",
            " Feature 55: -7850.0135\n",
            " Feature 56: -4341.2085\n",
            " Feature 57: -9986.9455\n",
            " Feature 58: -7546.0152\n",
            " Feature 59: 3243.1689\n",
            " Feature 60: 811.4712\n",
            " Feature 61: -7436.7514\n",
            " Feature 62: -10989.4340\n"
          ]
        }
      ],
      "source": [
        "#Model Summary\n",
        "\n",
        "print(\"Intercept: {:.4f}\".format(glr_model.intercept))\n",
        "print(\"Coefficients:\")\n",
        "for i, coef in enumerate(glr_model.coefficients):\n",
        "    print(f\" Feature {i + 1}: {coef:.4f}\")"
      ]
    },
    {
      "cell_type": "code",
      "execution_count": 8,
      "id": "194c9967",
      "metadata": {},
      "outputs": [
        {
          "name": "stderr",
          "output_type": "stream",
          "text": [
            "[Stage 63:>                                                         (0 + 1) / 1]\r"
          ]
        },
        {
          "name": "stdout",
          "output_type": "stream",
          "text": [
            "Coefficient Standard Errors: ['32.1098', '345.5202', '758.5322', '998.1229', '1182.6848', '667.5953', '711.0274', '2935.8109', '2938.5952', '2974.3190', '2986.2789', '3017.8056', '3103.7287', '3105.9301', '3125.4587', '3126.0381', '3126.9004', '3129.9410', '3139.8876', '3141.4249', '3143.4861', '3143.4611', '3153.0125', '3157.2838', '3167.5916', '3177.9271', '3177.1376', '3188.2625', '3189.0496', '3192.7196', '3202.2389', '3205.5528', '3208.6622', '3227.4155', '3228.2393', '3244.4764', '3257.6197', '3281.2210', '3307.3549', '3317.3929', '3315.0877', '3323.9190', '3323.6527', '3334.4591', '3339.7964', '3331.9678', '3364.9221', '3402.6602', '3400.3004', '3395.5481', '3402.1817', '3423.3624', '3502.2973', '3560.7282', '3596.8296', '3635.7330', '3648.5880', '3711.9215', '3718.6007', '3826.0438', '3879.8121', '4034.6588', '4397.4497']\n",
            "T Values: ['74.0801', '-8.2057', '-4.5296', '12.0289', '-7.0102', '2.3051', '1.5309', '-2.0267', '-1.2303', '-7.5863', '-4.0116', '2.1055', '-0.5004', '0.8655', '-0.7276', '0.1568', '0.1845', '-0.0527', '-0.3605', '-0.5687', '-0.7287', '0.5169', '-0.6843', '0.0009', '-0.2172', '-0.8346', '0.9997', '-0.4365', '-1.2035', '-0.8213', '-0.6098', '-0.4813', '-0.1998', '-1.0843', '-0.2882', '-0.3070', '0.8816', '-0.7239', '-0.6573', '-0.3432', '-1.3126', '-0.5543', '-0.4398', '-0.3037', '-2.0377', '0.8822', '-0.4791', '-0.6457', '-0.9444', '-0.2241', '-0.0665', '-0.0230', '-1.0615', '-1.1326', '-2.1825', '-1.1940', '-2.7372', '-2.0329', '0.8721', '0.2121', '-1.9168', '-2.7238', '23.2587']\n",
            "P Values: ['0.0000', '0.0000', '0.0000', '0.0000', '0.0000', '0.0212', '0.1258', '0.0427', '0.2186', '0.0000', '0.0001', '0.0353', '0.6168', '0.3868', '0.4668', '0.8754', '0.8536', '0.9580', '0.7185', '0.5696', '0.4662', '0.6053', '0.4938', '0.9993', '0.8281', '0.4039', '0.3174', '0.6625', '0.2288', '0.4115', '0.5420', '0.6303', '0.8416', '0.2782', '0.7732', '0.7588', '0.3780', '0.4691', '0.5110', '0.7315', '0.1893', '0.5794', '0.6601', '0.7613', '0.0416', '0.3777', '0.6319', '0.5185', '0.3450', '0.8227', '0.9470', '0.9817', '0.2884', '0.2574', '0.0291', '0.2325', '0.0062', '0.0421', '0.3831', '0.8320', '0.0553', '0.0065', '0.0000']\n"
          ]
        },
        {
          "name": "stderr",
          "output_type": "stream",
          "text": [
            "                                                                                \r"
          ]
        }
      ],
      "source": [
        "#Summary Statistics\n",
        "print(\"Coefficient Standard Errors:\", [f\"{val:.4f}\" for val in glr_summary.coefficientStandardErrors])\n",
        "print(\"T Values:\", [f\"{val:.4f}\" for val in glr_summary.tValues])\n",
        "print(\"P Values:\", [f\"{val:.4f}\" for val in glr_summary.pValues])"
      ]
    },
    {
      "cell_type": "code",
      "execution_count": 9,
      "id": "0006d3fa",
      "metadata": {},
      "outputs": [
        {
          "name": "stderr",
          "output_type": "stream",
          "text": [
            "                                                                                \r"
          ]
        },
        {
          "name": "stdout",
          "output_type": "stream",
          "text": [
            "Null Deviance: 51607738345410.0703\n",
            "Residual DF Null: 57956\n",
            "Residual DF: 57894\n"
          ]
        },
        {
          "name": "stderr",
          "output_type": "stream",
          "text": [
            "[Stage 80:>                                                         (0 + 1) / 1]\r"
          ]
        },
        {
          "name": "stdout",
          "output_type": "stream",
          "text": [
            "AIC: 1350095.6573\n",
            "Deviance: 44306505655818.4141\n"
          ]
        },
        {
          "name": "stderr",
          "output_type": "stream",
          "text": [
            "                                                                                \r"
          ]
        }
      ],
      "source": [
        "#Dispersion\n",
        "print(f\"Null Deviance: {glr_summary.nullDeviance:.4f}\")\n",
        "print(f\"Residual DF Null: {glr_summary.residualDegreeOfFreedomNull}\")\n",
        "print(f\"Residual DF: {glr_summary.residualDegreeOfFreedom}\")\n",
        "print(f\"AIC: {glr_summary.aic:.4f}\")\n",
        "print(f\"Deviance: {glr_summary.deviance:.4f}\")"
      ]
    },
    {
      "cell_type": "code",
      "execution_count": 10,
      "id": "e35628cb",
      "metadata": {},
      "outputs": [
        {
          "name": "stdout",
          "output_type": "stream",
          "text": [
            "Length of features: 63\n",
            "Length of coefficients: 63\n",
            "Length of standard errors: 63\n",
            "Length of t-values: 63\n",
            "Length of p-values: 63\n"
          ]
        }
      ],
      "source": [
        "feature_names = glr_summary._call_java(\"featureNames\")\n",
        "features = [\"Intercept\"] + feature_names\n",
        "coefs = [glr_model.intercept] + list(glr_model.coefficients)\n",
        "se = list(glr_summary.coefficientStandardErrors)\n",
        "t_values = list(glr_summary.tValues)\n",
        "p_values = list(glr_summary.pValues)\n",
        "\n",
        "print(\"Length of features:\", len(features))\n",
        "print(\"Length of coefficients:\", len(coefs))\n",
        "print(\"Length of standard errors:\", len(se))\n",
        "print(\"Length of t-values:\", len(t_values))\n",
        "print(\"Length of p-values:\", len(p_values))"
      ]
    },
    {
      "cell_type": "code",
      "execution_count": 11,
      "id": "89dfad33",
      "metadata": {},
      "outputs": [
        {
          "data": {
            "text/html": [
              "<div>\n",
              "<style scoped>\n",
              "    .dataframe tbody tr th:only-of-type {\n",
              "        vertical-align: middle;\n",
              "    }\n",
              "\n",
              "    .dataframe tbody tr th {\n",
              "        vertical-align: top;\n",
              "    }\n",
              "\n",
              "    .dataframe thead th {\n",
              "        text-align: right;\n",
              "    }\n",
              "</style>\n",
              "<table border=\"1\" class=\"dataframe\">\n",
              "  <thead>\n",
              "    <tr style=\"text-align: right;\">\n",
              "      <th></th>\n",
              "      <th>Feature</th>\n",
              "      <th>Estimate</th>\n",
              "      <th>Std. Error</th>\n",
              "      <th>t-value</th>\n",
              "      <th>p-value</th>\n",
              "    </tr>\n",
              "  </thead>\n",
              "  <tbody>\n",
              "    <tr>\n",
              "      <th>0</th>\n",
              "      <td>Intercept</td>\n",
              "      <td>102278.9407</td>\n",
              "      <td>32.1098</td>\n",
              "      <td>74.0801</td>\n",
              "      <td>0.0000</td>\n",
              "    </tr>\n",
              "    <tr>\n",
              "      <th>1</th>\n",
              "      <td>MIN_YEARS_EXPERIENCE</td>\n",
              "      <td>2378.7010</td>\n",
              "      <td>345.5202</td>\n",
              "      <td>-8.2057</td>\n",
              "      <td>0.0000</td>\n",
              "    </tr>\n",
              "    <tr>\n",
              "      <th>2</th>\n",
              "      <td>COMPANY_IS_STAFFING</td>\n",
              "      <td>-2835.2513</td>\n",
              "      <td>758.5322</td>\n",
              "      <td>-4.5296</td>\n",
              "      <td>0.0000</td>\n",
              "    </tr>\n",
              "    <tr>\n",
              "      <th>3</th>\n",
              "      <td>IS_INTERNSHIP</td>\n",
              "      <td>-3435.8114</td>\n",
              "      <td>998.1229</td>\n",
              "      <td>12.0289</td>\n",
              "      <td>0.0000</td>\n",
              "    </tr>\n",
              "    <tr>\n",
              "      <th>4</th>\n",
              "      <td>EMPLOYMENT_TYPE_NAME_vec_Full Time</td>\n",
              "      <td>12006.3027</td>\n",
              "      <td>1182.6848</td>\n",
              "      <td>-7.0102</td>\n",
              "      <td>0.0000</td>\n",
              "    </tr>\n",
              "    <tr>\n",
              "      <th>...</th>\n",
              "      <td>...</td>\n",
              "      <td>...</td>\n",
              "      <td>...</td>\n",
              "      <td>...</td>\n",
              "      <td>...</td>\n",
              "    </tr>\n",
              "    <tr>\n",
              "      <th>58</th>\n",
              "      <td>STATE_NAME_vec_Alaska</td>\n",
              "      <td>-7546.0152</td>\n",
              "      <td>3718.6007</td>\n",
              "      <td>0.8721</td>\n",
              "      <td>0.3831</td>\n",
              "    </tr>\n",
              "    <tr>\n",
              "      <th>59</th>\n",
              "      <td>STATE_NAME_vec_Vermont</td>\n",
              "      <td>3243.1689</td>\n",
              "      <td>3826.0438</td>\n",
              "      <td>0.2121</td>\n",
              "      <td>0.8320</td>\n",
              "    </tr>\n",
              "    <tr>\n",
              "      <th>60</th>\n",
              "      <td>STATE_NAME_vec_Montana</td>\n",
              "      <td>811.4712</td>\n",
              "      <td>3879.8121</td>\n",
              "      <td>-1.9168</td>\n",
              "      <td>0.0553</td>\n",
              "    </tr>\n",
              "    <tr>\n",
              "      <th>61</th>\n",
              "      <td>STATE_NAME_vec_West Virginia</td>\n",
              "      <td>-7436.7514</td>\n",
              "      <td>4034.6588</td>\n",
              "      <td>-2.7238</td>\n",
              "      <td>0.0065</td>\n",
              "    </tr>\n",
              "    <tr>\n",
              "      <th>62</th>\n",
              "      <td>STATE_NAME_vec_North Dakota</td>\n",
              "      <td>-10989.4340</td>\n",
              "      <td>4397.4497</td>\n",
              "      <td>23.2587</td>\n",
              "      <td>0.0000</td>\n",
              "    </tr>\n",
              "  </tbody>\n",
              "</table>\n",
              "<p>63 rows × 5 columns</p>\n",
              "</div>"
            ],
            "text/plain": [
              "                               Feature     Estimate Std. Error  t-value  \\\n",
              "0                            Intercept  102278.9407    32.1098  74.0801   \n",
              "1                 MIN_YEARS_EXPERIENCE    2378.7010   345.5202  -8.2057   \n",
              "2                  COMPANY_IS_STAFFING   -2835.2513   758.5322  -4.5296   \n",
              "3                        IS_INTERNSHIP   -3435.8114   998.1229  12.0289   \n",
              "4   EMPLOYMENT_TYPE_NAME_vec_Full Time   12006.3027  1182.6848  -7.0102   \n",
              "..                                 ...          ...        ...      ...   \n",
              "58               STATE_NAME_vec_Alaska   -7546.0152  3718.6007   0.8721   \n",
              "59              STATE_NAME_vec_Vermont    3243.1689  3826.0438   0.2121   \n",
              "60              STATE_NAME_vec_Montana     811.4712  3879.8121  -1.9168   \n",
              "61        STATE_NAME_vec_West Virginia   -7436.7514  4034.6588  -2.7238   \n",
              "62         STATE_NAME_vec_North Dakota  -10989.4340  4397.4497  23.2587   \n",
              "\n",
              "   p-value  \n",
              "0   0.0000  \n",
              "1   0.0000  \n",
              "2   0.0000  \n",
              "3   0.0000  \n",
              "4   0.0000  \n",
              "..     ...  \n",
              "58  0.3831  \n",
              "59  0.8320  \n",
              "60  0.0553  \n",
              "61  0.0065  \n",
              "62  0.0000  \n",
              "\n",
              "[63 rows x 5 columns]"
            ]
          },
          "execution_count": 11,
          "metadata": {},
          "output_type": "execute_result"
        }
      ],
      "source": [
        "import pandas as pd\n",
        "from tabulate import tabulate\n",
        "from IPython.display import HTML\n",
        "\n",
        "summary_df = pd.DataFrame({\n",
        "    \"Feature\": features,\n",
        "    \"Estimate\": [f\"{v:.4f}\" if v is not None else None for v in coefs],\n",
        "    \"Std. Error\": [f\"{v:.4f}\" if v is not None else None for v in se],\n",
        "    \"t-value\": [f\"{v:.4f}\" if v is not None else None for v in t_values],\n",
        "    \"p-value\": [f\"{v:.4f}\" if v is not None else None for v in p_values]\n",
        "})\n",
        "summary_df.to_csv(\"output/glr_model_summary.csv\", index=False)\n",
        "summary_df"
      ]
    },
    {
      "cell_type": "code",
      "execution_count": 12,
      "id": "da60aa9d",
      "metadata": {},
      "outputs": [
        {
          "data": {
            "text/html": [
              "<div>\n",
              "<style scoped>\n",
              "    .dataframe tbody tr th:only-of-type {\n",
              "        vertical-align: middle;\n",
              "    }\n",
              "\n",
              "    .dataframe tbody tr th {\n",
              "        vertical-align: top;\n",
              "    }\n",
              "\n",
              "    .dataframe thead th {\n",
              "        text-align: right;\n",
              "    }\n",
              "</style>\n",
              "<table border=\"1\" class=\"dataframe\">\n",
              "  <thead>\n",
              "    <tr style=\"text-align: right;\">\n",
              "      <th></th>\n",
              "      <th>Feature</th>\n",
              "      <th>Estimate</th>\n",
              "      <th>Std_Error</th>\n",
              "      <th>t_value</th>\n",
              "      <th>p_value</th>\n",
              "      <th>Significant</th>\n",
              "    </tr>\n",
              "  </thead>\n",
              "  <tbody>\n",
              "    <tr>\n",
              "      <th>0</th>\n",
              "      <td>Intercept</td>\n",
              "      <td>102278.940654</td>\n",
              "      <td>32.109834</td>\n",
              "      <td>74.080141</td>\n",
              "      <td>0.000000e+00</td>\n",
              "      <td>True</td>\n",
              "    </tr>\n",
              "    <tr>\n",
              "      <th>62</th>\n",
              "      <td>STATE_NAME_vec_North Dakota</td>\n",
              "      <td>-10989.434042</td>\n",
              "      <td>4397.449726</td>\n",
              "      <td>23.258695</td>\n",
              "      <td>0.000000e+00</td>\n",
              "      <td>True</td>\n",
              "    </tr>\n",
              "    <tr>\n",
              "      <th>3</th>\n",
              "      <td>IS_INTERNSHIP</td>\n",
              "      <td>-3435.811431</td>\n",
              "      <td>998.122865</td>\n",
              "      <td>12.028883</td>\n",
              "      <td>0.000000e+00</td>\n",
              "      <td>True</td>\n",
              "    </tr>\n",
              "    <tr>\n",
              "      <th>1</th>\n",
              "      <td>MIN_YEARS_EXPERIENCE</td>\n",
              "      <td>2378.701045</td>\n",
              "      <td>345.520191</td>\n",
              "      <td>-8.205747</td>\n",
              "      <td>2.220446e-16</td>\n",
              "      <td>True</td>\n",
              "    </tr>\n",
              "    <tr>\n",
              "      <th>9</th>\n",
              "      <td>MIN_EDULEVELS_NAME_vec_No Education Listed</td>\n",
              "      <td>-3615.237936</td>\n",
              "      <td>2974.318976</td>\n",
              "      <td>-7.586332</td>\n",
              "      <td>3.330669e-14</td>\n",
              "      <td>True</td>\n",
              "    </tr>\n",
              "    <tr>\n",
              "      <th>4</th>\n",
              "      <td>EMPLOYMENT_TYPE_NAME_vec_Full Time</td>\n",
              "      <td>12006.302678</td>\n",
              "      <td>1182.684819</td>\n",
              "      <td>-7.010197</td>\n",
              "      <td>2.405853e-12</td>\n",
              "      <td>True</td>\n",
              "    </tr>\n",
              "    <tr>\n",
              "      <th>2</th>\n",
              "      <td>COMPANY_IS_STAFFING</td>\n",
              "      <td>-2835.251337</td>\n",
              "      <td>758.532194</td>\n",
              "      <td>-4.529553</td>\n",
              "      <td>5.922656e-06</td>\n",
              "      <td>True</td>\n",
              "    </tr>\n",
              "    <tr>\n",
              "      <th>10</th>\n",
              "      <td>MIN_EDULEVELS_NAME_vec_High school or GED</td>\n",
              "      <td>-22564.171663</td>\n",
              "      <td>2986.278876</td>\n",
              "      <td>-4.011587</td>\n",
              "      <td>6.038759e-05</td>\n",
              "      <td>True</td>\n",
              "    </tr>\n",
              "    <tr>\n",
              "      <th>56</th>\n",
              "      <td>STATE_NAME_vec_Hawaii</td>\n",
              "      <td>-4341.208540</td>\n",
              "      <td>3648.588031</td>\n",
              "      <td>-2.737208</td>\n",
              "      <td>6.198195e-03</td>\n",
              "      <td>True</td>\n",
              "    </tr>\n",
              "    <tr>\n",
              "      <th>61</th>\n",
              "      <td>STATE_NAME_vec_West Virginia</td>\n",
              "      <td>-7436.751355</td>\n",
              "      <td>4034.658810</td>\n",
              "      <td>-2.723758</td>\n",
              "      <td>6.456314e-03</td>\n",
              "      <td>True</td>\n",
              "    </tr>\n",
              "  </tbody>\n",
              "</table>\n",
              "</div>"
            ],
            "text/plain": [
              "                                       Feature       Estimate    Std_Error  \\\n",
              "0                                    Intercept  102278.940654    32.109834   \n",
              "62                 STATE_NAME_vec_North Dakota  -10989.434042  4397.449726   \n",
              "3                                IS_INTERNSHIP   -3435.811431   998.122865   \n",
              "1                         MIN_YEARS_EXPERIENCE    2378.701045   345.520191   \n",
              "9   MIN_EDULEVELS_NAME_vec_No Education Listed   -3615.237936  2974.318976   \n",
              "4           EMPLOYMENT_TYPE_NAME_vec_Full Time   12006.302678  1182.684819   \n",
              "2                          COMPANY_IS_STAFFING   -2835.251337   758.532194   \n",
              "10   MIN_EDULEVELS_NAME_vec_High school or GED  -22564.171663  2986.278876   \n",
              "56                       STATE_NAME_vec_Hawaii   -4341.208540  3648.588031   \n",
              "61                STATE_NAME_vec_West Virginia   -7436.751355  4034.658810   \n",
              "\n",
              "      t_value       p_value  Significant  \n",
              "0   74.080141  0.000000e+00         True  \n",
              "62  23.258695  0.000000e+00         True  \n",
              "3   12.028883  0.000000e+00         True  \n",
              "1   -8.205747  2.220446e-16         True  \n",
              "9   -7.586332  3.330669e-14         True  \n",
              "4   -7.010197  2.405853e-12         True  \n",
              "2   -4.529553  5.922656e-06         True  \n",
              "10  -4.011587  6.038759e-05         True  \n",
              "56  -2.737208  6.198195e-03         True  \n",
              "61  -2.723758  6.456314e-03         True  "
            ]
          },
          "execution_count": 12,
          "metadata": {},
          "output_type": "execute_result"
        }
      ],
      "source": [
        "#Create a numeric summary DataFrame for further analysis\n",
        "summary_numeric = pd.DataFrame({\n",
        "    \"Feature\": features,\n",
        "    \"Estimate\": coefs,\n",
        "    \"Std_Error\": se,\n",
        "    \"t_value\": t_values,\n",
        "    \"p_value\": p_values\n",
        "})\n",
        "\n",
        "# Add significance flag\n",
        "summary_numeric[\"Significant\"] = summary_numeric[\"p_value\"] < 0.05\n",
        "\n",
        "# Sort by absolute t-value\n",
        "summary_numeric = summary_numeric.reindex(summary_numeric[\"t_value\"].abs().sort_values(ascending=False).index)\n",
        "summary_numeric.head(10)"
      ]
    },
    {
      "cell_type": "markdown",
      "id": "4a4e19ef",
      "metadata": {},
      "source": [
        "Analysis:\n",
        "I created a duplicate table and added a significance flag to better understand the model.  I then limited it by the top 10 Features by T value.  In the table above, I can see that the baseline salary in my dataset is $102,278.  The model predicts that being based in North Dakota means that you will earn $10,989 LESS in salary.  Additionally, an internship will earn you $3,435 less in salary.  When it comes to your minimum years of experience, your salary will increase by $2378 for each additional year of experience you have.  These observations are in line with what I would expect but the baseline salary is rather high in this dataset compared to national averages."
      ]
    },
    {
      "cell_type": "markdown",
      "id": "a1e0a196",
      "metadata": {},
      "source": [
        "# Polynomial Regression"
      ]
    },
    {
      "cell_type": "code",
      "execution_count": 13,
      "id": "4de80f82",
      "metadata": {},
      "outputs": [
        {
          "name": "stderr",
          "output_type": "stream",
          "text": [
            "[Stage 83:>                                                         (0 + 1) / 1]\r"
          ]
        },
        {
          "name": "stdout",
          "output_type": "stream",
          "text": [
            "+--------+---------------------------------------------+\n",
            "|SALARY  |features_poly                                |\n",
            "+--------+---------------------------------------------+\n",
            "|103573.0|(63,[0,1,5,6,8,24],[3.0,9.0,1.0,1.0,1.0,1.0])|\n",
            "|86390.0 |(63,[5,6,9,17],[1.0,1.0,1.0,1.0])            |\n",
            "|86390.0 |(63,[0,1,5,6,8,23],[3.0,9.0,1.0,1.0,1.0,1.0])|\n",
            "|52987.0 |(63,[5,6,8,17],[1.0,1.0,1.0,1.0])            |\n",
            "|86390.0 |(63,[5,7,9,21],[1.0,1.0,1.0,1.0])            |\n",
            "+--------+---------------------------------------------+\n",
            "only showing top 5 rows\n",
            "\n"
          ]
        },
        {
          "name": "stderr",
          "output_type": "stream",
          "text": [
            "                                                                                \r"
          ]
        }
      ],
      "source": [
        "poly_data = data.withColumn(\"MIN_YEARS_EXPERIENCE_sq\", pow(col(\"MIN_YEARS_EXPERIENCE\"), 2))\n",
        "\n",
        "assembler_poly = VectorAssembler(\n",
        "    inputCols=[\n",
        "        \"MIN_YEARS_EXPERIENCE\",\n",
        "        \"MIN_YEARS_EXPERIENCE_sq\",\n",
        "        \"COMPANY_IS_STAFFING\",\n",
        "        \"IS_INTERNSHIP\"\n",
        "    ] + [f\"{col}_vec\" for col in categorical_cols],\n",
        "    outputCol=\"features_poly\"\n",
        ")\n",
        "\n",
        "poly_data = assembler_poly.transform(poly_data)\n",
        "poly_data.select(\"SALARY\",\"features_poly\").show(5,truncate=False)"
      ]
    },
    {
      "cell_type": "code",
      "execution_count": 14,
      "id": "5f3ead00",
      "metadata": {},
      "outputs": [],
      "source": [
        "#Test Train Split\n",
        "train_poly_data, test_poly_data = poly_data.randomSplit([0.8, 0.2], seed=45)"
      ]
    },
    {
      "cell_type": "code",
      "execution_count": 15,
      "id": "f7bd536a",
      "metadata": {},
      "outputs": [
        {
          "name": "stderr",
          "output_type": "stream",
          "text": [
            "                                                                                \r"
          ]
        }
      ],
      "source": [
        "poly_feature_names = assembler_poly.getInputCols()\n",
        "\n",
        "poly_reg_min_yrs = GeneralizedLinearRegression(\n",
        "    featuresCol=\"features_poly\",\n",
        "    labelCol=\"SALARY\",\n",
        "    family=\"gaussian\",\n",
        "    link=\"identity\",\n",
        "    maxIter=10,\n",
        "    regParam=0.3,\n",
        ")\n",
        "\n",
        "poly_yrs_model = poly_reg_min_yrs.fit(train_poly_data)\n",
        "poly_yrs_summary = poly_yrs_model.summary"
      ]
    },
    {
      "cell_type": "code",
      "execution_count": 16,
      "id": "e0c95aac",
      "metadata": {},
      "outputs": [
        {
          "name": "stdout",
          "output_type": "stream",
          "text": [
            "Intercept: 102770.4046\n"
          ]
        },
        {
          "name": "stderr",
          "output_type": "stream",
          "text": [
            "                                                                                \r"
          ]
        },
        {
          "name": "stdout",
          "output_type": "stream",
          "text": [
            "Coefficient Standard Errors: ['89.6343', '7.7088', '345.2028', '761.6878', '997.1704', '1181.6420', '666.9488', '710.4609', '2934.0575', '2935.7966', '2972.0945', '2983.4991', '3015.2172', '3100.7369', '3102.9532', '3122.4368', '3123.0461', '3123.8888', '3126.9238', '3136.8676', '3138.3902', '3140.4516', '3140.4866', '3149.9636', '3154.2721', '3164.5396', '3174.8576', '3174.0643', '3185.1746', '3185.9610', '3189.6462', '3199.1404', '3202.4498', '3205.5803', '3224.3000', '3225.1381', '3241.3518', '3254.4646', '3278.0500', '3304.2059', '3314.1859', '3311.9843', '3320.7134', '3320.4628', '3331.2482', '3336.5663', '3328.7495', '3361.6903', '3399.3659', '3397.0262', '3392.2679', '3398.8985', '3420.0516', '3498.9091', '3557.2962', '3593.3572', '3632.2547', '3645.0567', '3708.3337', '3715.0051', '3822.3433', '3876.0671', '4030.7522', '4393.4332']\n",
            "T Values: ['16.5970', '10.6460', '-8.1069', '-5.5854', '12.0973', '-7.1567', '2.3084', '1.7295', '-1.7378', '-1.1709', '-7.3683', '-4.1078', '2.2659', '-0.5332', '0.8185', '-0.7476', '0.1061', '0.1496', '-0.0848', '-0.3999', '-0.5932', '-0.7565', '0.4462', '-0.7038', '-0.0568', '-0.2512', '-0.8600', '0.9841', '-0.4351', '-1.2077', '-0.8587', '-0.6250', '-0.4927', '-0.2427', '-1.0583', '-0.3307', '-0.3425', '0.8803', '-0.7466', '-0.7189', '-0.3232', '-1.3996', '-0.5853', '-0.4848', '-0.3396', '-2.0221', '0.9076', '-0.5224', '-0.6373', '-0.9810', '-0.2004', '-0.0946', '-0.0051', '-1.0468', '-1.1664', '-2.2112', '-1.2470', '-2.7276', '-2.0138', '0.8537', '0.2298', '-1.9459', '-2.7340', '23.3918']\n",
            "P Values: ['0.0000', '0.0000', '0.0000', '0.0000', '0.0000', '0.0000', '0.0210', '0.0837', '0.0823', '0.2417', '0.0000', '0.0000', '0.0235', '0.5939', '0.4131', '0.4547', '0.9155', '0.8810', '0.9324', '0.6892', '0.5531', '0.4494', '0.6554', '0.4815', '0.9547', '0.8017', '0.3898', '0.3251', '0.6635', '0.2272', '0.3905', '0.5320', '0.6222', '0.8082', '0.2899', '0.7409', '0.7320', '0.3787', '0.4553', '0.4722', '0.7465', '0.1616', '0.5583', '0.6278', '0.7341', '0.0432', '0.3641', '0.6014', '0.5239', '0.3266', '0.8412', '0.9246', '0.9959', '0.2952', '0.2435', '0.0270', '0.2124', '0.0064', '0.0440', '0.3932', '0.8183', '0.0517', '0.0063', '0.0000']\n"
          ]
        },
        {
          "name": "stderr",
          "output_type": "stream",
          "text": [
            "[Stage 116:>                                                        (0 + 1) / 1]\r"
          ]
        },
        {
          "name": "stdout",
          "output_type": "stream",
          "text": [
            "Null Deviance: 51607738345410.0703\n",
            "Residual DF Null: 57956\n",
            "Residual DF: 57893\n"
          ]
        },
        {
          "name": "stderr",
          "output_type": "stream",
          "text": [
            "[Stage 123:>                                                        (0 + 1) / 1]\r"
          ]
        },
        {
          "name": "stdout",
          "output_type": "stream",
          "text": [
            "AIC: 1349984.3354\n",
            "Deviance: 44219958881865.4297\n"
          ]
        },
        {
          "name": "stderr",
          "output_type": "stream",
          "text": [
            "                                                                                \r"
          ]
        }
      ],
      "source": [
        "#Model Summary\n",
        "\n",
        "print(\"Intercept: {:.4f}\".format(poly_yrs_model.intercept))\n",
        "print(\"Coefficient Standard Errors:\", [f\"{val:.4f}\" for val in poly_yrs_summary.coefficientStandardErrors])\n",
        "print(\"T Values:\", [f\"{val:.4f}\" for val in poly_yrs_summary.tValues])\n",
        "print(\"P Values:\", [f\"{val:.4f}\" for val in poly_yrs_summary.pValues])\n",
        "print(f\"Null Deviance: {poly_yrs_summary.nullDeviance:.4f}\")\n",
        "print(f\"Residual DF Null: {poly_yrs_summary.residualDegreeOfFreedomNull}\")\n",
        "print(f\"Residual DF: {poly_yrs_summary.residualDegreeOfFreedom}\")\n",
        "print(f\"AIC: {poly_yrs_summary.aic:.4f}\")\n",
        "print(f\"Deviance: {poly_yrs_summary.deviance:.4f}\")"
      ]
    },
    {
      "cell_type": "code",
      "execution_count": 17,
      "id": "02461502",
      "metadata": {},
      "outputs": [
        {
          "data": {
            "text/html": [
              "<div>\n",
              "<style scoped>\n",
              "    .dataframe tbody tr th:only-of-type {\n",
              "        vertical-align: middle;\n",
              "    }\n",
              "\n",
              "    .dataframe tbody tr th {\n",
              "        vertical-align: top;\n",
              "    }\n",
              "\n",
              "    .dataframe thead th {\n",
              "        text-align: right;\n",
              "    }\n",
              "</style>\n",
              "<table border=\"1\" class=\"dataframe\">\n",
              "  <thead>\n",
              "    <tr style=\"text-align: right;\">\n",
              "      <th></th>\n",
              "      <th>Feature</th>\n",
              "      <th>Estimate</th>\n",
              "      <th>Std. Error</th>\n",
              "      <th>t-value</th>\n",
              "      <th>p-value</th>\n",
              "    </tr>\n",
              "  </thead>\n",
              "  <tbody>\n",
              "    <tr>\n",
              "      <th>0</th>\n",
              "      <td>Intercept</td>\n",
              "      <td>102770.4046</td>\n",
              "      <td>89.6343</td>\n",
              "      <td>16.5970</td>\n",
              "      <td>0.0000</td>\n",
              "    </tr>\n",
              "    <tr>\n",
              "      <th>1</th>\n",
              "      <td>MIN_YEARS_EXPERIENCE</td>\n",
              "      <td>1487.6582</td>\n",
              "      <td>7.7088</td>\n",
              "      <td>10.6460</td>\n",
              "      <td>0.0000</td>\n",
              "    </tr>\n",
              "    <tr>\n",
              "      <th>2</th>\n",
              "      <td>MIN_YEARS_EXPERIENCE_sq</td>\n",
              "      <td>82.0679</td>\n",
              "      <td>345.2028</td>\n",
              "      <td>-8.1069</td>\n",
              "      <td>0.0000</td>\n",
              "    </tr>\n",
              "    <tr>\n",
              "      <th>3</th>\n",
              "      <td>COMPANY_IS_STAFFING</td>\n",
              "      <td>-2798.5163</td>\n",
              "      <td>761.6878</td>\n",
              "      <td>-5.5854</td>\n",
              "      <td>0.0000</td>\n",
              "    </tr>\n",
              "    <tr>\n",
              "      <th>4</th>\n",
              "      <td>IS_INTERNSHIP</td>\n",
              "      <td>-4254.3237</td>\n",
              "      <td>997.1704</td>\n",
              "      <td>12.0973</td>\n",
              "      <td>0.0000</td>\n",
              "    </tr>\n",
              "    <tr>\n",
              "      <th>...</th>\n",
              "      <td>...</td>\n",
              "      <td>...</td>\n",
              "      <td>...</td>\n",
              "      <td>...</td>\n",
              "      <td>...</td>\n",
              "    </tr>\n",
              "    <tr>\n",
              "      <th>59</th>\n",
              "      <td>STATE_NAME_vec_Alaska</td>\n",
              "      <td>-7467.6895</td>\n",
              "      <td>3715.0051</td>\n",
              "      <td>0.8537</td>\n",
              "      <td>0.3932</td>\n",
              "    </tr>\n",
              "    <tr>\n",
              "      <th>60</th>\n",
              "      <td>STATE_NAME_vec_Vermont</td>\n",
              "      <td>3171.6806</td>\n",
              "      <td>3822.3433</td>\n",
              "      <td>0.2298</td>\n",
              "      <td>0.8183</td>\n",
              "    </tr>\n",
              "    <tr>\n",
              "      <th>61</th>\n",
              "      <td>STATE_NAME_vec_Montana</td>\n",
              "      <td>878.2150</td>\n",
              "      <td>3876.0671</td>\n",
              "      <td>-1.9459</td>\n",
              "      <td>0.0517</td>\n",
              "    </tr>\n",
              "    <tr>\n",
              "      <th>62</th>\n",
              "      <td>STATE_NAME_vec_West Virginia</td>\n",
              "      <td>-7542.6035</td>\n",
              "      <td>4030.7522</td>\n",
              "      <td>-2.7340</td>\n",
              "      <td>0.0063</td>\n",
              "    </tr>\n",
              "    <tr>\n",
              "      <th>63</th>\n",
              "      <td>STATE_NAME_vec_North Dakota</td>\n",
              "      <td>-11020.2597</td>\n",
              "      <td>4393.4332</td>\n",
              "      <td>23.3918</td>\n",
              "      <td>0.0000</td>\n",
              "    </tr>\n",
              "  </tbody>\n",
              "</table>\n",
              "<p>64 rows × 5 columns</p>\n",
              "</div>"
            ],
            "text/plain": [
              "                         Feature     Estimate Std. Error  t-value p-value\n",
              "0                      Intercept  102770.4046    89.6343  16.5970  0.0000\n",
              "1           MIN_YEARS_EXPERIENCE    1487.6582     7.7088  10.6460  0.0000\n",
              "2        MIN_YEARS_EXPERIENCE_sq      82.0679   345.2028  -8.1069  0.0000\n",
              "3            COMPANY_IS_STAFFING   -2798.5163   761.6878  -5.5854  0.0000\n",
              "4                  IS_INTERNSHIP   -4254.3237   997.1704  12.0973  0.0000\n",
              "..                           ...          ...        ...      ...     ...\n",
              "59         STATE_NAME_vec_Alaska   -7467.6895  3715.0051   0.8537  0.3932\n",
              "60        STATE_NAME_vec_Vermont    3171.6806  3822.3433   0.2298  0.8183\n",
              "61        STATE_NAME_vec_Montana     878.2150  3876.0671  -1.9459  0.0517\n",
              "62  STATE_NAME_vec_West Virginia   -7542.6035  4030.7522  -2.7340  0.0063\n",
              "63   STATE_NAME_vec_North Dakota  -11020.2597  4393.4332  23.3918  0.0000\n",
              "\n",
              "[64 rows x 5 columns]"
            ]
          },
          "execution_count": 17,
          "metadata": {},
          "output_type": "execute_result"
        }
      ],
      "source": [
        "poly_feature_names = poly_yrs_summary._call_java(\"featureNames\")\n",
        "poly_features = [\"Intercept\"] + poly_feature_names\n",
        "poly_coefs = [poly_yrs_model.intercept] + list(poly_yrs_model.coefficients)\n",
        "poly_se = list(poly_yrs_summary.coefficientStandardErrors)\n",
        "poly_t_values = list(poly_yrs_summary.tValues)\n",
        "poly_p_values = list(poly_yrs_summary.pValues)\n",
        "\n",
        "poly_summary_df = pd.DataFrame({\n",
        "    \"Feature\": poly_features,\n",
        "    \"Estimate\": [f\"{v:.4f}\" if v is not None else None for v in poly_coefs],\n",
        "    \"Std. Error\": [f\"{v:.4f}\" if v is not None else None for v in poly_se],\n",
        "    \"t-value\": [f\"{v:.4f}\" if v is not None else None for v in poly_t_values],\n",
        "    \"p-value\": [f\"{v:.4f}\" if v is not None else None for v in poly_p_values]\n",
        "})\n",
        "poly_summary_df.to_csv(\"output/poly_model_summary.csv\", index=False)\n",
        "poly_summary_df"
      ]
    },
    {
      "cell_type": "code",
      "execution_count": 18,
      "id": "ba27c028",
      "metadata": {},
      "outputs": [
        {
          "data": {
            "text/html": [
              "<div>\n",
              "<style scoped>\n",
              "    .dataframe tbody tr th:only-of-type {\n",
              "        vertical-align: middle;\n",
              "    }\n",
              "\n",
              "    .dataframe tbody tr th {\n",
              "        vertical-align: top;\n",
              "    }\n",
              "\n",
              "    .dataframe thead th {\n",
              "        text-align: right;\n",
              "    }\n",
              "</style>\n",
              "<table border=\"1\" class=\"dataframe\">\n",
              "  <thead>\n",
              "    <tr style=\"text-align: right;\">\n",
              "      <th></th>\n",
              "      <th>Feature</th>\n",
              "      <th>Estimate</th>\n",
              "      <th>Std_Error</th>\n",
              "      <th>t_value</th>\n",
              "      <th>p_value</th>\n",
              "      <th>Significant</th>\n",
              "    </tr>\n",
              "  </thead>\n",
              "  <tbody>\n",
              "    <tr>\n",
              "      <th>63</th>\n",
              "      <td>STATE_NAME_vec_North Dakota</td>\n",
              "      <td>-11020.259746</td>\n",
              "      <td>4393.433199</td>\n",
              "      <td>23.391821</td>\n",
              "      <td>0.000000e+00</td>\n",
              "      <td>True</td>\n",
              "    </tr>\n",
              "    <tr>\n",
              "      <th>0</th>\n",
              "      <td>Intercept</td>\n",
              "      <td>102770.404563</td>\n",
              "      <td>89.634274</td>\n",
              "      <td>16.596980</td>\n",
              "      <td>0.000000e+00</td>\n",
              "      <td>True</td>\n",
              "    </tr>\n",
              "    <tr>\n",
              "      <th>4</th>\n",
              "      <td>IS_INTERNSHIP</td>\n",
              "      <td>-4254.323692</td>\n",
              "      <td>997.170407</td>\n",
              "      <td>12.097298</td>\n",
              "      <td>0.000000e+00</td>\n",
              "      <td>True</td>\n",
              "    </tr>\n",
              "    <tr>\n",
              "      <th>1</th>\n",
              "      <td>MIN_YEARS_EXPERIENCE</td>\n",
              "      <td>1487.658219</td>\n",
              "      <td>7.708798</td>\n",
              "      <td>10.646001</td>\n",
              "      <td>0.000000e+00</td>\n",
              "      <td>True</td>\n",
              "    </tr>\n",
              "    <tr>\n",
              "      <th>2</th>\n",
              "      <td>MIN_YEARS_EXPERIENCE_sq</td>\n",
              "      <td>82.067877</td>\n",
              "      <td>345.202790</td>\n",
              "      <td>-8.106876</td>\n",
              "      <td>4.440892e-16</td>\n",
              "      <td>True</td>\n",
              "    </tr>\n",
              "    <tr>\n",
              "      <th>10</th>\n",
              "      <td>MIN_EDULEVELS_NAME_vec_No Education Listed</td>\n",
              "      <td>-3437.400514</td>\n",
              "      <td>2972.094524</td>\n",
              "      <td>-7.368299</td>\n",
              "      <td>1.751932e-13</td>\n",
              "      <td>True</td>\n",
              "    </tr>\n",
              "    <tr>\n",
              "      <th>5</th>\n",
              "      <td>EMPLOYMENT_TYPE_NAME_vec_Full Time</td>\n",
              "      <td>12063.067849</td>\n",
              "      <td>1181.641990</td>\n",
              "      <td>-7.156699</td>\n",
              "      <td>8.362200e-13</td>\n",
              "      <td>True</td>\n",
              "    </tr>\n",
              "    <tr>\n",
              "      <th>3</th>\n",
              "      <td>COMPANY_IS_STAFFING</td>\n",
              "      <td>-2798.516307</td>\n",
              "      <td>761.687811</td>\n",
              "      <td>-5.585390</td>\n",
              "      <td>2.342199e-08</td>\n",
              "      <td>True</td>\n",
              "    </tr>\n",
              "    <tr>\n",
              "      <th>11</th>\n",
              "      <td>MIN_EDULEVELS_NAME_vec_High school or GED</td>\n",
              "      <td>-21899.280992</td>\n",
              "      <td>2983.499125</td>\n",
              "      <td>-4.107798</td>\n",
              "      <td>3.999975e-05</td>\n",
              "      <td>True</td>\n",
              "    </tr>\n",
              "    <tr>\n",
              "      <th>62</th>\n",
              "      <td>STATE_NAME_vec_West Virginia</td>\n",
              "      <td>-7542.603506</td>\n",
              "      <td>4030.752155</td>\n",
              "      <td>-2.734045</td>\n",
              "      <td>6.258041e-03</td>\n",
              "      <td>True</td>\n",
              "    </tr>\n",
              "  </tbody>\n",
              "</table>\n",
              "</div>"
            ],
            "text/plain": [
              "                                       Feature       Estimate    Std_Error  \\\n",
              "63                 STATE_NAME_vec_North Dakota  -11020.259746  4393.433199   \n",
              "0                                    Intercept  102770.404563    89.634274   \n",
              "4                                IS_INTERNSHIP   -4254.323692   997.170407   \n",
              "1                         MIN_YEARS_EXPERIENCE    1487.658219     7.708798   \n",
              "2                      MIN_YEARS_EXPERIENCE_sq      82.067877   345.202790   \n",
              "10  MIN_EDULEVELS_NAME_vec_No Education Listed   -3437.400514  2972.094524   \n",
              "5           EMPLOYMENT_TYPE_NAME_vec_Full Time   12063.067849  1181.641990   \n",
              "3                          COMPANY_IS_STAFFING   -2798.516307   761.687811   \n",
              "11   MIN_EDULEVELS_NAME_vec_High school or GED  -21899.280992  2983.499125   \n",
              "62                STATE_NAME_vec_West Virginia   -7542.603506  4030.752155   \n",
              "\n",
              "      t_value       p_value  Significant  \n",
              "63  23.391821  0.000000e+00         True  \n",
              "0   16.596980  0.000000e+00         True  \n",
              "4   12.097298  0.000000e+00         True  \n",
              "1   10.646001  0.000000e+00         True  \n",
              "2   -8.106876  4.440892e-16         True  \n",
              "10  -7.368299  1.751932e-13         True  \n",
              "5   -7.156699  8.362200e-13         True  \n",
              "3   -5.585390  2.342199e-08         True  \n",
              "11  -4.107798  3.999975e-05         True  \n",
              "62  -2.734045  6.258041e-03         True  "
            ]
          },
          "execution_count": 18,
          "metadata": {},
          "output_type": "execute_result"
        }
      ],
      "source": [
        "#Create a numeric summary DataFrame for further analysis\n",
        "poly_summary_numeric = pd.DataFrame({\n",
        "    \"Feature\": poly_features,\n",
        "    \"Estimate\": poly_coefs,\n",
        "    \"Std_Error\": poly_se,\n",
        "    \"t_value\": poly_t_values,\n",
        "    \"p_value\": poly_p_values\n",
        "})\n",
        "\n",
        "# Add significance flag\n",
        "poly_summary_numeric[\"Significant\"] = poly_summary_numeric[\"p_value\"] < 0.05\n",
        "\n",
        "# Sort by absolute t-value\n",
        "poly_summary_numeric = poly_summary_numeric.reindex(poly_summary_numeric[\"t_value\"].abs().sort_values(ascending=False).index)\n",
        "poly_summary_numeric.head(10)"
      ]
    },
    {
      "cell_type": "markdown",
      "id": "82b77d22",
      "metadata": {},
      "source": [
        "Analysis:  The polynominal regression has slightly different values.  Only min years experience really changed which is the variable I squared in this model."
      ]
    },
    {
      "cell_type": "markdown",
      "id": "6448654f",
      "metadata": {},
      "source": [
        "# Random Forest"
      ]
    },
    {
      "cell_type": "code",
      "execution_count": 19,
      "id": "e60da721",
      "metadata": {},
      "outputs": [
        {
          "name": "stderr",
          "output_type": "stream",
          "text": [
            "WARNING: An illegal reflective access operation has occurred                    \n",
            "WARNING: Illegal reflective access by org.apache.spark.util.SizeEstimator$ (file:/opt/spark-3.5.6-bin-hadoop3/jars/spark-core_2.12-3.5.6.jar) to field java.nio.charset.Charset.name\n",
            "WARNING: Please consider reporting this to the maintainers of org.apache.spark.util.SizeEstimator$\n",
            "WARNING: Use --illegal-access=warn to enable warnings of further illegal reflective access operations\n",
            "WARNING: All illegal access operations will be denied in a future release\n"
          ]
        }
      ],
      "source": [
        "from pyspark.ml.regression import RandomForestRegressor\n",
        "\n",
        "rf = RandomForestRegressor(featuresCol=\"features\", labelCol=\"SALARY\", numTrees=200, maxDepth=4, seed=45)\n",
        "rf_model = rf.fit(train_data.select(\"features\",\"SALARY\"))\n",
        "rf_preds = rf_model.transform(test_data.select(\"features\",\"SALARY\"))"
      ]
    },
    {
      "cell_type": "code",
      "execution_count": 20,
      "id": "1e6bee84",
      "metadata": {},
      "outputs": [],
      "source": [
        "import matplotlib.pyplot as plt\n",
        "import seaborn as sns\n",
        "\n",
        "#Feature Importance\n",
        "def get_actual_feature_names(data, assembler, encoded_cols):\n",
        "    full_feature_names = []\n",
        "    for col_name in assembler.getInputCols():\n",
        "        if col_name in encoded_cols:\n",
        "            try:\n",
        "                attr_meta = data.schema[col_name].metadata[\"ml_attr\"][\"attrs\"]\n",
        "                for attr_group in attr_meta.values():\n",
        "                    for attr in attr_group:\n",
        "                        full_feature_names.append(attr[\"name\"])\n",
        "            except:\n",
        "                full_feature_names.append(col_name)\n",
        "        else:\n",
        "            full_feature_names.append(col)\n",
        "    return full_feature_names\n",
        "\n",
        "encoded_cols = [f\"{col}_vec\" for col in categorical_cols]\n",
        "feature_names = get_actual_feature_names(data, assembler, encoded_cols)\n",
        "importances = rf_model.featureImportances.toArray()"
      ]
    },
    {
      "cell_type": "code",
      "execution_count": 21,
      "id": "fcb6272e",
      "metadata": {},
      "outputs": [
        {
          "data": {
            "image/png": "[encoded data removed]",
            "text/plain": [
              "<Figure size 1000x600 with 1 Axes>"
            ]
          },
          "metadata": {},
          "output_type": "display_data"
        }
      ],
      "source": [
        "def clean_feature_names(feature_list):\n",
        "    clean_names = []\n",
        "    for name in feature_list:\n",
        "        if isinstance(name, list):\n",
        "            clean_names.append(\"_\".join(str(n) for n in name))\n",
        "        elif isinstance(name, str) and name.startswith(\"[\"):\n",
        "            clean_names.append(name.replace(\"[\",\"\").replace(\"]\",\"\").replace(\"'\",\"\").replace('\"','').strip())\n",
        "        else:\n",
        "            clean_names.append(str(name))\n",
        "    return clean_names\n",
        "\n",
        "importance_df = pd.DataFrame({\n",
        "    \"Feature\": feature_names,\n",
        "    \"Importance\": importances\n",
        "}).sort_values(by=\"Importance\", ascending=False)\n",
        "\n",
        "importance_df[\"Feature\"] = clean_feature_names(importance_df[\"Feature\"])\n",
        "\n",
        "plt.figure(figsize=(10,6))\n",
        "sns.barplot(data=importance_df.head(10), x=\"Importance\", y=\"Feature\", hue=\"Importance\", palette=\"mako\", legend=False)\n",
        "plt.title(\"Top 10 Feature Importances from Random Forest Model\")\n",
        "plt.xlabel(\"Importance\")\n",
        "plt.ylabel(\"Feature\")\n",
        "plt.tight_layout()\n",
        "plt.savefig(\"output/rf_feature_importance.png\")\n",
        "plt.show()    "
      ]
    },
    {
      "cell_type": "markdown",
      "id": "6cdf1ce3",
      "metadata": {},
      "source": [
        "# Compare Models"
      ]
    },
    {
      "cell_type": "code",
      "execution_count": 23,
      "id": "bb9110f2",
      "metadata": {},
      "outputs": [
        {
          "name": "stderr",
          "output_type": "stream",
          "text": [
            "                                                                                \r"
          ]
        },
        {
          "ename": "AttributeError",
          "evalue": "'GeneralizedLinearRegressionTrainingSummary' object has no attribute 'coefficients'",
          "output_type": "error",
          "traceback": [
            "\u001b[31m---------------------------------------------------------------------------\u001b[39m",
            "\u001b[31mAttributeError\u001b[39m                            Traceback (most recent call last)",
            "\u001b[36mCell\u001b[39m\u001b[36m \u001b[39m\u001b[32mIn[23]\u001b[39m\u001b[32m, line 17\u001b[39m\n\u001b[32m     15\u001b[39m glr_rmse = np.sqrt(residuals_df.select(avg(\u001b[33m\"\u001b[39m\u001b[33msquared_errors\u001b[39m\u001b[33m\"\u001b[39m)).first()[\u001b[32m0\u001b[39m])\n\u001b[32m     16\u001b[39m glr_aic = glr_summary.aic\n\u001b[32m---> \u001b[39m\u001b[32m17\u001b[39m glr_bic = \u001b[38;5;28mlen\u001b[39m(\u001b[43mglr_summary\u001b[49m\u001b[43m.\u001b[49m\u001b[43mcoefficients\u001b[49m) * np.log(glr_summary.numInstances) + glr_summary.numInstances * np.log(glr_summary.deviance / glr_summary.numInstances)\n\u001b[32m     19\u001b[39m poly_df = poly_preds.select(\u001b[33m\"\u001b[39m\u001b[33mSALARY\u001b[39m\u001b[33m\"\u001b[39m, \u001b[33m\"\u001b[39m\u001b[33mprediction\u001b[39m\u001b[33m\"\u001b[39m).toPandas().rename(columns={\u001b[33m\"\u001b[39m\u001b[33mprediction\u001b[39m\u001b[33m\"\u001b[39m: \u001b[33m\"\u001b[39m\u001b[33mPoly_Prediction\u001b[39m\u001b[33m\"\u001b[39m})\n\u001b[32m     20\u001b[39m poly_r2 = evaluatorR2.evaluate(poly_preds)\n",
            "\u001b[31mAttributeError\u001b[39m: 'GeneralizedLinearRegressionTrainingSummary' object has no attribute 'coefficients'"
          ]
        }
      ],
      "source": [
        "from pyspark.ml.evaluation import RegressionEvaluator\n",
        "from pyspark.sql.functions import col, pow, sqrt, avg\n",
        "import numpy as np\n",
        "\n",
        "#Generate predications for poly and linear\n",
        "poly_preds = poly_yrs_model.transform(test_poly_data)\n",
        "glr_preds = glr_model.transform(test_data)\n",
        "rf_preds = rf_model.transform(test_data)\n",
        "\n",
        "evaluatorR2 = RegressionEvaluator(labelCol=\"SALARY\", predictionCol=\"prediction\", metricName=\"r2\")\n",
        "residuals_df = glr_summary.predictions.withColumn(\"squared_errors\", pow(col(\"SALARY\") - col(\"prediction\"), 2))\n",
        "\n",
        "glr_df = glr_summary.predictions.select(\"SALARY\", \"prediction\").toPandas().rename(columns={\"prediction\": \"GLR_Prediction\"})\n",
        "glr_r2 = evaluatorR2.evaluate(glr_summary.predictions)\n",
        "glr_rmse = np.sqrt(residuals_df.select(avg(\"squared_errors\")).first()[0])\n",
        "glr_aic = glr_summary.aic\n",
        "glr_bic = len(glr_summary.coefficients) * np.log(glr_summary.numInstances) + glr_summary.numInstances * np.log(glr_summary.deviance / glr_summary.numInstances)\n",
        "\n",
        "poly_df = poly_preds.select(\"SALARY\", \"prediction\").toPandas().rename(columns={\"prediction\": \"Poly_Prediction\"})\n",
        "poly_r2 = evaluatorR2.evaluate(poly_preds)\n",
        "poly_rmse = np.sqrt(((poly_data[\"SALARY\"] - poly_data[\"Poly_Prediction\"]) ** 2).mean())\n",
        "poly_aic = None\n",
        "poly_bic = None\n",
        "\n",
        "rf_df = rf_preds.select(\"SALARY\", \"prediction\").toPandas().rename(columns={\"prediction\": \"RF_Prediction\"})\n",
        "rf_r2 = evaluatorR2.evaluate(rf_preds)\n",
        "rf_rmse = np.sqrt(((rf_df[\"SALARY\"] - rf_df[\"RF_Prediction\"]) ** 2).mean())\n",
        "rf_aic = None\n",
        "rf_bic = None"
      ]
    },
    {
      "cell_type": "code",
      "execution_count": 24,
      "id": "cc191f89",
      "metadata": {},
      "outputs": [
        {
          "name": "stderr",
          "output_type": "stream",
          "text": [
            "                                                                                \r"
          ]
        }
      ],
      "source": [
        "from pyspark.ml.evaluation import RegressionEvaluator\n",
        "from pyspark.sql.functions import col, pow, sqrt, avg\n",
        "import numpy as np\n",
        "\n",
        "# Generate predictions\n",
        "poly_preds = poly_yrs_model.transform(test_poly_data)\n",
        "glr_preds = glr_model.transform(test_data)\n",
        "rf_preds = rf_model.transform(test_data)\n",
        "\n",
        "# Metrics for GLR\n",
        "evaluatorR2 = RegressionEvaluator(labelCol=\"SALARY\", predictionCol=\"prediction\", metricName=\"r2\")\n",
        "residuals_df = glr_summary.predictions.withColumn(\"squared_errors\", pow(col(\"SALARY\") - col(\"prediction\"), 2))\n",
        "\n",
        "glr_df = glr_summary.predictions.select(\"SALARY\", \"prediction\").toPandas().rename(columns={\"prediction\": \"GLR_Prediction\"})\n",
        "glr_r2 = evaluatorR2.evaluate(glr_summary.predictions)\n",
        "glr_rmse = np.sqrt(residuals_df.select(avg(\"squared_errors\")).first()[0])\n",
        "glr_aic = glr_summary.aic\n",
        "glr_bic = len(glr_model.coefficients) * np.log(glr_summary.numInstances) + \\\n",
        "           glr_summary.numInstances * np.log(glr_summary.deviance / glr_summary.numInstances)\n",
        "\n",
        "# Metrics for Polynomial Model\n",
        "poly_df = poly_preds.select(\"SALARY\", \"prediction\").toPandas().rename(columns={\"prediction\": \"Poly_Prediction\"})\n",
        "poly_r2 = evaluatorR2.evaluate(poly_preds)\n",
        "poly_rmse = np.sqrt(((poly_df[\"SALARY\"] - poly_df[\"Poly_Prediction\"]) ** 2).mean())\n",
        "poly_aic = None\n",
        "poly_bic = None\n",
        "\n",
        "# Metrics for Random Forest\n",
        "rf_df = rf_preds.select(\"SALARY\", \"prediction\").toPandas().rename(columns={\"prediction\": \"RF_Prediction\"})\n",
        "rf_r2 = evaluatorR2.evaluate(rf_preds)\n",
        "rf_rmse = np.sqrt(((rf_df[\"SALARY\"] - rf_df[\"RF_Prediction\"]) ** 2).mean())\n",
        "rf_aic = None\n",
        "rf_bic = None"
      ]
    },
    {
      "cell_type": "code",
      "execution_count": 26,
      "id": "8cd45407",
      "metadata": {},
      "outputs": [
        {
          "data": {
            "text/html": [
              "<div>\n",
              "<style scoped>\n",
              "    .dataframe tbody tr th:only-of-type {\n",
              "        vertical-align: middle;\n",
              "    }\n",
              "\n",
              "    .dataframe tbody tr th {\n",
              "        vertical-align: top;\n",
              "    }\n",
              "\n",
              "    .dataframe thead th {\n",
              "        text-align: right;\n",
              "    }\n",
              "</style>\n",
              "<table border=\"1\" class=\"dataframe\">\n",
              "  <thead>\n",
              "    <tr style=\"text-align: right;\">\n",
              "      <th></th>\n",
              "      <th>SALARY</th>\n",
              "      <th>Model</th>\n",
              "      <th>Predicted</th>\n",
              "    </tr>\n",
              "  </thead>\n",
              "  <tbody>\n",
              "    <tr>\n",
              "      <th>0</th>\n",
              "      <td>20800.0</td>\n",
              "      <td>GLR_Prediction</td>\n",
              "      <td>79700.536267</td>\n",
              "    </tr>\n",
              "    <tr>\n",
              "      <th>1</th>\n",
              "      <td>24960.0</td>\n",
              "      <td>GLR_Prediction</td>\n",
              "      <td>97928.452843</td>\n",
              "    </tr>\n",
              "    <tr>\n",
              "      <th>2</th>\n",
              "      <td>24960.0</td>\n",
              "      <td>GLR_Prediction</td>\n",
              "      <td>98416.110750</td>\n",
              "    </tr>\n",
              "    <tr>\n",
              "      <th>3</th>\n",
              "      <td>24960.0</td>\n",
              "      <td>GLR_Prediction</td>\n",
              "      <td>103947.174075</td>\n",
              "    </tr>\n",
              "    <tr>\n",
              "      <th>4</th>\n",
              "      <td>25480.0</td>\n",
              "      <td>GLR_Prediction</td>\n",
              "      <td>99272.377344</td>\n",
              "    </tr>\n",
              "  </tbody>\n",
              "</table>\n",
              "</div>"
            ],
            "text/plain": [
              "    SALARY           Model      Predicted\n",
              "0  20800.0  GLR_Prediction   79700.536267\n",
              "1  24960.0  GLR_Prediction   97928.452843\n",
              "2  24960.0  GLR_Prediction   98416.110750\n",
              "3  24960.0  GLR_Prediction  103947.174075\n",
              "4  25480.0  GLR_Prediction   99272.377344"
            ]
          },
          "execution_count": 26,
          "metadata": {},
          "output_type": "execute_result"
        }
      ],
      "source": [
        "#Plot\n",
        "merged = glr_df.copy()\n",
        "merged[\"Polynomial\"] = poly_df[\"Poly_Prediction\"]\n",
        "merged[\"Random_Forest\"] = rf_df[\"RF_Prediction\"]\n",
        "\n",
        "#Melt\n",
        "plot_df = merged.melt(id_vars=\"SALARY\", var_name=\"Model\", value_name=\"Predicted\")\n",
        "plot_df.head()"
      ]
    },
    {
      "cell_type": "code",
      "execution_count": 27,
      "id": "55d0f459",
      "metadata": {},
      "outputs": [
        {
          "data": {
            "image/png": "[encoded data removed]",
            "text/plain": [
              "<Figure size 700x1650 with 3 Axes>"
            ]
          },
          "metadata": {},
          "output_type": "display_data"
        }
      ],
      "source": [
        "#Plot\n",
        "plt.figure(figsize=(7,16.5))\n",
        "sns.set_style(\"whitegrid\")\n",
        "\n",
        "models = {\n",
        "    \"GLR\": (glr_rmse,glr_r2,glr_aic,glr_bic),\n",
        "    \"Polynomial\": (poly_rmse,poly_r2,\"NA\",\"NA\"),\n",
        "    \"RandomForest\": (rf_rmse,rf_r2,\"NA\",\"NA\")\n",
        "}\n",
        "\n",
        "for idx, model in enumerate(models.keys(), 1):\n",
        "    plt.subplot(3, 1, idx)\n",
        "    temp_df = plot_df[plot_df[\"Model\"] == model]\n",
        "    sns.scatterplot(data=temp_df, x=\"SALARY\", y=\"Predicted\", alpha=0.5, label=model)\n",
        "    sns.lineplot(x=temp_df[\"SALARY\"], y=temp_df[\"SALARY\"], color='red', label='Ideal Fit')\n",
        "    \n",
        "    rmse, r2, aic, bic = models[model]\n",
        "    plt.title(f\"{model} Model: RMSE={models[model][0]:.2f}, R²={models[model][1]:.4f}, AIC={models[model][2]}, BIC={models[model][3]}\")\n",
        "    plt.xlabel(\"Actual Salary\")\n",
        "    plt.ylabel(\"Predicted Salary\")\n",
        "    plt.grid(True, linestyle='--', alpha=0.5, linewidth=0.75,color='#676767')\n",
        "\n",
        "plt.tight_layout()\n",
        "plt.savefig(\"output/model_comparison.png\")\n",
        "plt.show()"
      ]
    }
  ],
  "metadata": {
    "kernelspec": {
      "display_name": ".venv",
      "language": "python",
      "name": "python3"
    },
    "language_info": {
      "codemirror_mode": {
        "name": "ipython",
        "version": 3
      },
      "file_extension": ".py",
      "mimetype": "text/x-python",
      "name": "python",
      "nbconvert_exporter": "python",
      "pygments_lexer": "ipython3",
      "version": "3.12.3"
    }
  },
  "nbformat": 4,
  "nbformat_minor": 5
}
