{
  "cells": [
    {
      "cell_type": "markdown",
      "id": "59dbf35f-6c81-474c-b4e7-809545e84f23",
      "metadata": {},
      "source": [
        "# Assignment 04\n",
        "\n",
        "Caroline O’Sullivan (Boston University)  \n",
        "September 27, 2025"
      ]
    },
    {
      "cell_type": "code",
      "execution_count": 3,
      "id": "d6f8bd02",
      "metadata": {},
      "outputs": [
        {
          "name": "stderr",
          "output_type": "stream",
          "text": [
            "                                                                                \r"
          ]
        }
      ],
      "source": [
        "from pyspark.sql import SparkSession\n",
        "import pandas as pd\n",
        "import plotly.express as px\n",
        "import plotly.io as pio\n",
        "import numpy as np\n",
        "\n",
        "np.random.seed(45)\n",
        "\n",
        "pio.renderers.default = \"notebook+notebook_connected+vscode\"\n",
        "\n",
        "# Initialize Spark Session\n",
        "spark = SparkSession.builder.appName(\"LightcastData\").getOrCreate()\n",
        "\n",
        "# Load Data\n",
        "df = spark.read.option(\"header\", \"true\").option(\"inferSchema\", \"true\").option(\"multiLine\",\"true\").option(\"escape\", \"\\\"\").csv(\"./data/lightcast_job_postings.csv\")\n",
        "\n",
        "# Show Schema and Sample Data\n",
        "#print(\"---This is Diagnostic check, No need to print it in the final doc---\")\n",
        "\n",
        "# df.printSchema() # comment this line when rendering the submission\n",
        "#df.show(5)"
      ]
    },
    {
      "cell_type": "markdown",
      "id": "09cf6641",
      "metadata": {},
      "source": [
        "#Missing Value Treatment\n",
        "1. Replace missing values in Salary by Median of Salary based on the Employment Type, if missing then replace with the overall median of Salary"
      ]
    },
    {
      "cell_type": "code",
      "execution_count": null,
      "id": "c0dd32c6",
      "metadata": {},
      "outputs": [],
      "source": [
        "#Missing Value Treatment\n",
        "#1. Replace missing values in Salary by Median of Salary based on the Employment Type, if missing then replace with the overall median of Salary\n",
        "\n",
        "from pyspark.sql import Window\n",
        "from pyspark.sql.functions import col, when, isnan, count, lit, expr, avg, median\n"
      ]
    }
  ],
  "metadata": {
    "kernelspec": {
      "display_name": ".venv",
      "language": "python",
      "name": "python3"
    },
    "language_info": {
      "codemirror_mode": {
        "name": "ipython",
        "version": 3
      },
      "file_extension": ".py",
      "mimetype": "text/x-python",
      "name": "python",
      "nbconvert_exporter": "python",
      "pygments_lexer": "ipython3",
      "version": "3.12.3"
    }
  },
  "nbformat": 4,
  "nbformat_minor": 5
}
